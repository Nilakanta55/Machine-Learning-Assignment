{
 "cells": [
  {
   "cell_type": "markdown",
   "id": "133227e6",
   "metadata": {},
   "source": [
    "### 1. What is your definition of clustering? What are a few clustering algorithms you might think of?\n"
   ]
  },
  {
   "cell_type": "markdown",
   "id": "f30bf3de",
   "metadata": {},
   "source": [
    "clustering is a unsupervised approach. it is a method of identifing similar object and kipping them together.clustering is find a structute or pattern in a collection of unlabled data.\n",
    " \n",
    "the goal of clustering is to determine the intrensic groups of unlabled data.\n",
    "    \n",
    " few algorithms of clusterings are:\n",
    " \n",
    "        1. k-mean clustering\n",
    "        2. herirachical clustering\n",
    "        3. DBSCAN "
   ]
  },
  {
   "cell_type": "code",
   "execution_count": null,
   "id": "efb57ef1",
   "metadata": {},
   "outputs": [],
   "source": []
  },
  {
   "cell_type": "markdown",
   "id": "a12203b0",
   "metadata": {},
   "source": [
    "### 2. What are some of the most popular clustering algorithm applications?\n"
   ]
  },
  {
   "cell_type": "markdown",
   "id": "21ff7c39",
   "metadata": {},
   "source": [
    "application of clustering algorithm are:-\n",
    "       \n",
    "       1. for customer segment \n",
    "       \n",
    "       2. for data analysis\n",
    "       \n",
    "       3. As a dimensionality reduction technique\n",
    "       \n",
    "       4. for anamoly detection\n",
    "       \n",
    "       5. to segment an image\n",
    "        "
   ]
  },
  {
   "cell_type": "code",
   "execution_count": null,
   "id": "0485871b",
   "metadata": {},
   "outputs": [],
   "source": []
  },
  {
   "cell_type": "markdown",
   "id": "64d79806",
   "metadata": {},
   "source": [
    "### 3. When using K-Means, describe two strategies for selecting the appropriate number of clusters.\n",
    "\n"
   ]
  },
  {
   "cell_type": "markdown",
   "id": "8c2275c3",
   "metadata": {},
   "source": [
    "the k-mean is a clusterring approach in which a data is grouped into k-distinct non-overlapping cluster based on the distance from the k-centre. the value of k is specified first then algorithm assign the point to exactly one cluster.\n",
    "\n",
    "the optimum value of k is obtained by using the elbow method(wcc or inertia).\n"
   ]
  },
  {
   "cell_type": "code",
   "execution_count": null,
   "id": "fa310539",
   "metadata": {},
   "outputs": [],
   "source": []
  },
  {
   "cell_type": "markdown",
   "id": "8fce9564",
   "metadata": {},
   "source": [
    "### 4. What is mark propagation and how does it work? Why would you do it, and how would you do it?\n",
    "\n"
   ]
  },
  {
   "cell_type": "code",
   "execution_count": null,
   "id": "83f31715",
   "metadata": {},
   "outputs": [],
   "source": []
  },
  {
   "cell_type": "code",
   "execution_count": null,
   "id": "7d38cd8e",
   "metadata": {},
   "outputs": [],
   "source": []
  },
  {
   "cell_type": "markdown",
   "id": "bc085ad6",
   "metadata": {},
   "source": [
    "### 5. Provide two examples of clustering algorithms that can handle large datasets. And two that look for high-density areas?\n",
    "\n"
   ]
  },
  {
   "cell_type": "markdown",
   "id": "ee8f591a",
   "metadata": {},
   "source": [
    "two examples of clustering algorithms that can handle large datasets are.\n",
    "1. Identifying fraudulent or criminal activity.\n",
    "2. Classifying network traffic"
   ]
  },
  {
   "cell_type": "code",
   "execution_count": null,
   "id": "c3d738e7",
   "metadata": {},
   "outputs": [],
   "source": []
  },
  {
   "cell_type": "markdown",
   "id": "e631e635",
   "metadata": {},
   "source": [
    "### 6. Can you think of a scenario in which constructive learning will be advantageous? How can you go about putting it into action?\n",
    "\n"
   ]
  },
  {
   "cell_type": "markdown",
   "id": "5f570bbe",
   "metadata": {},
   "source": [
    "Example: An elementary school teacher presents a class problem to measure the length of the \"Mayflower.\" Rather than starting the problem by introducing the ruler, the teacher allows students to reflect and to construct their own methods of measurement.\n",
    "\n",
    "Children learn more, and enjoy learning more when they are actively involved, rather than passive listeners. Education works best when it concentrates on thinking and understanding, rather than on rote memorization."
   ]
  },
  {
   "cell_type": "code",
   "execution_count": null,
   "id": "2cd20113",
   "metadata": {},
   "outputs": [],
   "source": []
  },
  {
   "cell_type": "markdown",
   "id": "6950b15f",
   "metadata": {},
   "source": [
    "### 7. How do you tell the difference between anomaly and novelty detection?\n",
    "\n"
   ]
  },
  {
   "cell_type": "markdown",
   "id": "b39aa13c",
   "metadata": {},
   "source": [
    "anamoly detection is similar to the novelty detection but not completely similar.\n",
    "the novelty detection is mainly concerned to identify the unabsorbed pattern in the obsrvation.\n"
   ]
  },
  {
   "cell_type": "code",
   "execution_count": null,
   "id": "b02487d3",
   "metadata": {},
   "outputs": [],
   "source": []
  },
  {
   "cell_type": "markdown",
   "id": "092ed0a0",
   "metadata": {},
   "source": [
    "### 8. What is a Gaussian mixture, and how does it work? What are some of the things you can do about it?\n",
    "\n"
   ]
  },
  {
   "cell_type": "markdown",
   "id": "03e34a3e",
   "metadata": {},
   "source": [
    "\n",
    "A Gaussian mixture model is a probabilistic model that assumes all the data points are generated from a mixture of a finite number of Gaussian distributions with unknown parameters.\n",
    "Gaussian Mixture models are used for representing Normally Distributed subpopulations within an overall population. The advantage of Mixture models is that they do not require which subpopulation a data point belongs to. It allows the model to learn the subpopulations automatically."
   ]
  },
  {
   "cell_type": "code",
   "execution_count": null,
   "id": "17960eb5",
   "metadata": {},
   "outputs": [],
   "source": []
  },
  {
   "cell_type": "markdown",
   "id": "72f73f45",
   "metadata": {},
   "source": [
    "### 9. When using a Gaussian mixture model, can you name two techniques for determining the correct number of clusters?\n"
   ]
  },
  {
   "cell_type": "markdown",
   "id": "3a5ca21b",
   "metadata": {},
   "source": [
    "How can a Gaussian mixture model be used for clustering?\n",
    "Gaussian mixture models (GMMs) are often used for data clustering. You can use GMMs to perform either hard clustering or soft clustering on query data. To perform hard clustering, the GMM assigns query data points to the multivariate normal components that maximize the component posterior probability, given the data."
   ]
  }
 ],
 "metadata": {
  "kernelspec": {
   "display_name": "Python 3",
   "language": "python",
   "name": "python3"
  },
  "language_info": {
   "codemirror_mode": {
    "name": "ipython",
    "version": 3
   },
   "file_extension": ".py",
   "mimetype": "text/x-python",
   "name": "python",
   "nbconvert_exporter": "python",
   "pygments_lexer": "ipython3",
   "version": "3.8.8"
  }
 },
 "nbformat": 4,
 "nbformat_minor": 5
}
