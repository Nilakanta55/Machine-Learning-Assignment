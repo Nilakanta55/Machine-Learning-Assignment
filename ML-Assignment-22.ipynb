{
 "cells": [
  {
   "cell_type": "markdown",
   "id": "133227e6",
   "metadata": {},
   "source": [
    "### 1. Is there any way to combine five different models that have all been trained on the same training data and have all achieved 95 percent precision? If so, how can you go about doing it? If not, what is the reason?\n"
   ]
  },
  {
   "cell_type": "markdown",
   "id": "7ad73bda",
   "metadata": {},
   "source": [
    "try combining them into a voting ensemble, which will often give you even better results. It works better if the models are very different"
   ]
  },
  {
   "cell_type": "code",
   "execution_count": null,
   "id": "acc611cd",
   "metadata": {},
   "outputs": [],
   "source": []
  },
  {
   "cell_type": "markdown",
   "id": "a12203b0",
   "metadata": {},
   "source": [
    "### 2. What's the difference between hard voting classifiers and soft voting classifiers?\n"
   ]
  },
  {
   "cell_type": "markdown",
   "id": "e077e5b5",
   "metadata": {},
   "source": [
    "In hard voting (also known as majority voting), every individual classifier votes for a class, and the majority wins. In statistical terms, the predicted target label of the ensemble is the mode of the distribution of individually predicted labels. In soft voting, every individual classifier provides a probability value that a specific data point belongs to a particular target class. The predictions are weighted by the classifier's importance and summed up. Then the target label with the greatest sum of weighted probabilities wins the vote."
   ]
  },
  {
   "cell_type": "code",
   "execution_count": null,
   "id": "842b56b5",
   "metadata": {},
   "outputs": [],
   "source": []
  },
  {
   "cell_type": "markdown",
   "id": "64d79806",
   "metadata": {},
   "source": [
    "### 3. Is it possible to distribute a bagging ensemble's training through several servers to speed up the process? Pasting ensembles, boosting ensembles, Random Forests, and stacking ensembles are all options.\n",
    "\n"
   ]
  },
  {
   "cell_type": "markdown",
   "id": "5d6099a5",
   "metadata": {},
   "source": [
    "Yes it is possible to speed up the training time of bagging by distributing them on multiple servers because all of them are independent of each other.\n"
   ]
  },
  {
   "cell_type": "markdown",
   "id": "8fce9564",
   "metadata": {},
   "source": [
    "### 4. What is the advantage of evaluating out of the bag?\n",
    "\n"
   ]
  },
  {
   "cell_type": "markdown",
   "id": "d5eee0f3",
   "metadata": {},
   "source": [
    "the advantage of evaluating out of bag are that the model is never trained on the that data so it is used for evaluating the accuracy of the model. so,we do not need of cross validation and can use out of bag instance for that purpose."
   ]
  },
  {
   "cell_type": "code",
   "execution_count": null,
   "id": "4a46c51e",
   "metadata": {},
   "outputs": [],
   "source": []
  },
  {
   "cell_type": "markdown",
   "id": "bc085ad6",
   "metadata": {},
   "source": [
    "### 5. What distinguishes Extra-Trees from ordinary Random Forests? What good would this extra randomness do? Is it true that Extra-Tree Random Forests are slower or faster than normal Random Forests?\n",
    "\n"
   ]
  },
  {
   "cell_type": "markdown",
   "id": "d5db6723",
   "metadata": {},
   "source": [
    "Random forest uses bootstrap replicas, that is to say, it subsamples the input data with replacement, whereas Extra Trees use the whole original sample. This may increase variance because bootstrapping makes it more diversified.\n",
    "\n",
    "Extra Trees is much faster. This is because instead of looking for the optimal split at each node it does it randomly."
   ]
  },
  {
   "cell_type": "code",
   "execution_count": null,
   "id": "64eb3afa",
   "metadata": {},
   "outputs": [],
   "source": []
  },
  {
   "cell_type": "markdown",
   "id": "e631e635",
   "metadata": {},
   "source": [
    "### 6. Which hyperparameters and how do you tweak if your AdaBoost ensemble underfits the training data?\n",
    "\n"
   ]
  },
  {
   "cell_type": "markdown",
   "id": "9ab75959",
   "metadata": {},
   "source": [
    " try increasing the number of estimators or reducing the regularization hyperparameters of the base estimator, also try slightly increasing the learning rate."
   ]
  },
  {
   "cell_type": "code",
   "execution_count": null,
   "id": "4e937495",
   "metadata": {},
   "outputs": [],
   "source": []
  },
  {
   "cell_type": "markdown",
   "id": "6950b15f",
   "metadata": {},
   "source": [
    "### 7. Should you raise or decrease the learning rate if your Gradient Boosting ensemble overfits the training set?\n"
   ]
  },
  {
   "cell_type": "markdown",
   "id": "bf486fe7",
   "metadata": {},
   "source": [
    "decreasing the learning rate, early stopping to find the right number of predictors"
   ]
  }
 ],
 "metadata": {
  "kernelspec": {
   "display_name": "Python 3",
   "language": "python",
   "name": "python3"
  },
  "language_info": {
   "codemirror_mode": {
    "name": "ipython",
    "version": 3
   },
   "file_extension": ".py",
   "mimetype": "text/x-python",
   "name": "python",
   "nbconvert_exporter": "python",
   "pygments_lexer": "ipython3",
   "version": "3.8.8"
  }
 },
 "nbformat": 4,
 "nbformat_minor": 5
}
